{
 "cells": [
  {
   "cell_type": "code",
   "execution_count": 104,
   "metadata": {},
   "outputs": [
    {
     "name": "stdout",
     "output_type": "stream",
     "text": [
      "[ 75.68368696 465.41599962]\n",
      "(2,)\n",
      "(2, 1)\n",
      "[[ 75.68368696]\n",
      " [465.41599962]]\n",
      "[[0.01321289 0.26538793 0.72139918]\n",
      " [0.01587624 0.86681333 0.11731043]]\n",
      "[[0.01321289 0.26538793 0.72139918]\n",
      " [0.01587624 0.86681333 0.11731043]]\n"
     ]
    }
   ],
   "source": [
    "import numpy as np\n",
    "import math\n",
    "\n",
    "x = np.array([[0,3,4], [2,6,4]])\n",
    "\n",
    "x = x.reshape([2, 3])\n",
    "print(softmax(x))\n"
   ]
  },
  {
   "cell_type": "code",
   "execution_count": 105,
   "metadata": {},
   "outputs": [],
   "source": [
    "#exe 1.1.2.5\n",
    "def softmax(x):\n",
    "    x_exp = np.exp(x)\n",
    "    #x_sum_exp = np.sum(x_exp, axis=1)\n",
    "    x_sum_exp = np.sum(x_exp, axis=1, keepdims=True) #very important to keepdims to be TRUE\n",
    "    x = x_exp / x_sum_exp\n",
    "    print(x)\n",
    "    return x\n"
   ]
  },
  {
   "cell_type": "code",
   "execution_count": 69,
   "metadata": {},
   "outputs": [],
   "source": [
    "#exe 1.1.2.4\n",
    "def normalizeRow(x):\n",
    "    x_norm = np.linalg.norm(x, axis=1, keepdims=True)\n",
    "    print(x_norm)\n",
    "    x = x / x_norm\n",
    "    return x"
   ]
  },
  {
   "cell_type": "code",
   "execution_count": 66,
   "metadata": {},
   "outputs": [],
   "source": [
    "#exe 1.1.2.3\n",
    "def im2vec(im):\n",
    "    x = im.reshape(im.shape[0]*im.shape[1]*im.shape[2], 1)\n",
    "    return x"
   ]
  },
  {
   "cell_type": "code",
   "execution_count": 34,
   "metadata": {},
   "outputs": [
    {
     "name": "stdout",
     "output_type": "stream",
     "text": [
      "[[0.19661193 0.10499359 0.04517666]]\n"
     ]
    }
   ],
   "source": [
    "#Exe 1.1.2.2\n",
    "def sigmoid_grad(x):\n",
    "    s = sigmoid(x);\n",
    "    ds = s * (1-s)\n",
    "    return ds"
   ]
  },
  {
   "cell_type": "code",
   "execution_count": 18,
   "metadata": {},
   "outputs": [
    {
     "name": "stdout",
     "output_type": "stream",
     "text": [
      "[0.73105858 0.88079708 0.95257413]\n"
     ]
    }
   ],
   "source": [
    "#Exe 1.1.2.2\n",
    "x = np.array([1, 2, 3])\n",
    "print(sigmoid(x))\n"
   ]
  },
  {
   "cell_type": "code",
   "execution_count": 19,
   "metadata": {},
   "outputs": [
    {
     "name": "stdout",
     "output_type": "stream",
     "text": [
      "0.9999546021312976\n",
      "[ 2.71828183  7.3890561  20.08553692]\n",
      "[4 5 6]\n"
     ]
    }
   ],
   "source": [
    "#Exe 1.1.2.1\n",
    "def basic_sigmoid(x):\n",
    "    s = 1/(1+math.exp(-x))\n",
    "    return s"
   ]
  },
  {
   "cell_type": "code",
   "execution_count": 20,
   "metadata": {},
   "outputs": [
    {
     "name": "stdout",
     "output_type": "stream",
     "text": [
      "[0.73105858 0.88079708 0.95257413]\n"
     ]
    }
   ],
   "source": [
    "def sigmoid(x):\n",
    "    s = 1/(1+np.exp(-x))\n",
    "    return s"
   ]
  },
  {
   "cell_type": "code",
   "execution_count": 3,
   "metadata": {},
   "outputs": [
    {
     "name": "stdout",
     "output_type": "stream",
     "text": [
      "Hello world\n"
     ]
    }
   ],
   "source": [
    "#Exe 1.1.1\n",
    "test = 'Hello world'\n",
    "print(test)"
   ]
  }
 ],
 "metadata": {
  "kernelspec": {
   "display_name": "Python 3",
   "language": "python",
   "name": "python3"
  },
  "language_info": {
   "codemirror_mode": {
    "name": "ipython",
    "version": 3
   },
   "file_extension": ".py",
   "mimetype": "text/x-python",
   "name": "python",
   "nbconvert_exporter": "python",
   "pygments_lexer": "ipython3",
   "version": "3.6.6"
  }
 },
 "nbformat": 4,
 "nbformat_minor": 2
}
